{
 "cells": [
  {
   "cell_type": "code",
   "execution_count": 1,
   "metadata": {},
   "outputs": [],
   "source": [
    "import pandas as pd\n",
    "import numpy as np\n",
    "import matplotlib.pyplot as plt"
   ]
  },
  {
   "cell_type": "code",
   "execution_count": 2,
   "metadata": {},
   "outputs": [
    {
     "data": {
      "text/plain": [
       "Index(['year', 'state', 'state_po', 'county', 'FIPS', 'office', 'candidate',\n",
       "       'party', 'candidatevotes', 'totalvotes', 'version'],\n",
       "      dtype='object')"
      ]
     },
     "execution_count": 2,
     "metadata": {},
     "output_type": "execute_result"
    }
   ],
   "source": [
    "#Read in csv file\n",
    "df = pd.read_csv(\"election_data.csv\")\n",
    "\n",
    "#Filter for 2012 and 2016\n",
    "df_2012 = df[df[\"year\"] == 2012]\n",
    "df_2016 = df[df[\"year\"] == 2016]\n",
    "df_2016.columns"
   ]
  },
  {
   "cell_type": "code",
   "execution_count": 3,
   "metadata": {
    "scrolled": true
   },
   "outputs": [
    {
     "data": {
      "text/html": [
       "<div>\n",
       "<style scoped>\n",
       "    .dataframe tbody tr th:only-of-type {\n",
       "        vertical-align: middle;\n",
       "    }\n",
       "\n",
       "    .dataframe tbody tr th {\n",
       "        vertical-align: top;\n",
       "    }\n",
       "\n",
       "    .dataframe thead th {\n",
       "        text-align: right;\n",
       "    }\n",
       "</style>\n",
       "<table border=\"1\" class=\"dataframe\">\n",
       "  <thead>\n",
       "    <tr style=\"text-align: right;\">\n",
       "      <th></th>\n",
       "      <th></th>\n",
       "      <th></th>\n",
       "      <th>Barack Obama</th>\n",
       "      <th>Mitt Romney</th>\n",
       "      <th>Other</th>\n",
       "      <th>Total Votes</th>\n",
       "      <th>Winner</th>\n",
       "      <th>Margin</th>\n",
       "    </tr>\n",
       "    <tr>\n",
       "      <th>state</th>\n",
       "      <th>state_po</th>\n",
       "      <th>county</th>\n",
       "      <th></th>\n",
       "      <th></th>\n",
       "      <th></th>\n",
       "      <th></th>\n",
       "      <th></th>\n",
       "      <th></th>\n",
       "    </tr>\n",
       "  </thead>\n",
       "  <tbody>\n",
       "    <tr>\n",
       "      <th rowspan=\"5\" valign=\"top\">Alabama</th>\n",
       "      <th rowspan=\"5\" valign=\"top\">AL</th>\n",
       "      <th>Autauga</th>\n",
       "      <td>6363</td>\n",
       "      <td>17379</td>\n",
       "      <td>190</td>\n",
       "      <td>23932</td>\n",
       "      <td>Mitt Romney</td>\n",
       "      <td>11016</td>\n",
       "    </tr>\n",
       "    <tr>\n",
       "      <th>Baldwin</th>\n",
       "      <td>18424</td>\n",
       "      <td>66016</td>\n",
       "      <td>898</td>\n",
       "      <td>85338</td>\n",
       "      <td>Mitt Romney</td>\n",
       "      <td>47592</td>\n",
       "    </tr>\n",
       "    <tr>\n",
       "      <th>Barbour</th>\n",
       "      <td>5912</td>\n",
       "      <td>5550</td>\n",
       "      <td>47</td>\n",
       "      <td>11509</td>\n",
       "      <td>Barack Obama</td>\n",
       "      <td>362</td>\n",
       "    </tr>\n",
       "    <tr>\n",
       "      <th>Bibb</th>\n",
       "      <td>2202</td>\n",
       "      <td>6132</td>\n",
       "      <td>86</td>\n",
       "      <td>8420</td>\n",
       "      <td>Mitt Romney</td>\n",
       "      <td>3930</td>\n",
       "    </tr>\n",
       "    <tr>\n",
       "      <th>Blount</th>\n",
       "      <td>2970</td>\n",
       "      <td>20757</td>\n",
       "      <td>279</td>\n",
       "      <td>24006</td>\n",
       "      <td>Mitt Romney</td>\n",
       "      <td>17787</td>\n",
       "    </tr>\n",
       "  </tbody>\n",
       "</table>\n",
       "</div>"
      ],
      "text/plain": [
       "                          Barack Obama  Mitt Romney  Other  Total Votes  \\\n",
       "state   state_po county                                                   \n",
       "Alabama AL       Autauga          6363        17379    190        23932   \n",
       "                 Baldwin         18424        66016    898        85338   \n",
       "                 Barbour          5912         5550     47        11509   \n",
       "                 Bibb             2202         6132     86         8420   \n",
       "                 Blount           2970        20757    279        24006   \n",
       "\n",
       "                                Winner  Margin  \n",
       "state   state_po county                         \n",
       "Alabama AL       Autauga   Mitt Romney   11016  \n",
       "                 Baldwin   Mitt Romney   47592  \n",
       "                 Barbour  Barack Obama     362  \n",
       "                 Bibb      Mitt Romney    3930  \n",
       "                 Blount    Mitt Romney   17787  "
      ]
     },
     "execution_count": 3,
     "metadata": {},
     "output_type": "execute_result"
    }
   ],
   "source": [
    "#Create pivot table with candidates as columns and votes as vales\n",
    "pivot_2012 = df_2012.pivot(columns = \"candidate\", values = \"candidatevotes\")\n",
    "\n",
    "#Merge pivot table with original 2012 dataframe\n",
    "merged_2012 = df_2012.merge(pivot_2012, right_index=True, left_index=True)\n",
    "\n",
    "#Group by state and county and sum (this allows all votes to be on same row)\n",
    "merged_grouped_2012 = merged_2012.groupby([\"state\", \"state_po\", \"county\"]).sum()\n",
    "\n",
    "#Select last three rows and transform to ints\n",
    "election_2012 = merged_grouped_2012.iloc[:,-3:].astype(int)\n",
    "\n",
    "#Create total votes column\n",
    "election_2012[\"Total Votes\"] = election_2012.sum(1)\n",
    "\n",
    "#Create column for winner and margin of victory\n",
    "election_2012[\"Winner\"] = np.where(election_2012['Barack Obama']>election_2012[\"Mitt Romney\"], 'Barack Obama', 'Mitt Romney')\n",
    "election_2012[\"Margin\"] = np.where(election_2012[\"Winner\"]==\"Mitt Romney\", \n",
    "                                   election_2012[\"Mitt Romney\"]-election_2012[\"Barack Obama\"],\n",
    "                                   election_2012[\"Barack Obama\"]-election_2012[\"Mitt Romney\"])\n",
    "#Preview results\n",
    "election_2012.head()\n"
   ]
  },
  {
   "cell_type": "code",
   "execution_count": 4,
   "metadata": {},
   "outputs": [],
   "source": [
    "#Find total votes for Barack Obama 2012\n",
    "obama_total = election_2012[\"Barack Obama\"].sum()\n",
    "\n",
    "#Find total votes for Mitt Romney 2012\n",
    "romney_total = election_2012[\"Mitt Romney\"].sum()\n",
    "\n",
    "#Find total votes for Other 2012\n",
    "other_2012_total = election_2012[\"Other\"].sum()\n"
   ]
  },
  {
   "cell_type": "code",
   "execution_count": 5,
   "metadata": {},
   "outputs": [
    {
     "data": {
      "image/png": "[encoded data removed]",
      "text/plain": [
       "<Figure size 432x288 with 1 Axes>"
      ]
     },
     "metadata": {},
     "output_type": "display_data"
    }
   ],
   "source": [
    "#Add labels\n",
    "labels_2012 = [\"Barack Obama\", \"Mitt Romney\", \"Other\"]\n",
    "\n",
    "#Add title\n",
    "plt.title(\"% of Total Votes Presidential Election 2012\")\n",
    "\n",
    "#Set the values of each section of the pie chart\n",
    "sizes_2012 = [obama_total, romney_total, other_2012_total]\n",
    "\n",
    "#Set the colors of each section of the pie chart\n",
    "colors_2012 = [\"#0e87cc\", \"firebrick\", \"lightgray\" ]\n",
    "\n",
    "# Create the pie chart based upon the values above\n",
    "plt.pie(sizes_2012, labels=labels_2012, colors=colors_2012,\n",
    "        autopct=\"%1.1f%%\", shadow=True, startangle=100)\n",
    "\n",
    "#Show pie chart\n",
    "plt.show()"
   ]
  },
  {
   "cell_type": "code",
   "execution_count": 6,
   "metadata": {
    "scrolled": true
   },
   "outputs": [
    {
     "data": {
      "text/html": [
       "<div>\n",
       "<style scoped>\n",
       "    .dataframe tbody tr th:only-of-type {\n",
       "        vertical-align: middle;\n",
       "    }\n",
       "\n",
       "    .dataframe tbody tr th {\n",
       "        vertical-align: top;\n",
       "    }\n",
       "\n",
       "    .dataframe thead th {\n",
       "        text-align: right;\n",
       "    }\n",
       "</style>\n",
       "<table border=\"1\" class=\"dataframe\">\n",
       "  <thead>\n",
       "    <tr style=\"text-align: right;\">\n",
       "      <th></th>\n",
       "      <th></th>\n",
       "      <th></th>\n",
       "      <th>Donald Trump</th>\n",
       "      <th>Hillary Clinton</th>\n",
       "      <th>Other</th>\n",
       "      <th>Total Votes</th>\n",
       "      <th>Winner</th>\n",
       "      <th>Margin</th>\n",
       "    </tr>\n",
       "    <tr>\n",
       "      <th>state</th>\n",
       "      <th>state_po</th>\n",
       "      <th>county</th>\n",
       "      <th></th>\n",
       "      <th></th>\n",
       "      <th></th>\n",
       "      <th></th>\n",
       "      <th></th>\n",
       "      <th></th>\n",
       "    </tr>\n",
       "  </thead>\n",
       "  <tbody>\n",
       "    <tr>\n",
       "      <th rowspan=\"5\" valign=\"top\">Alabama</th>\n",
       "      <th rowspan=\"5\" valign=\"top\">AL</th>\n",
       "      <th>Autauga</th>\n",
       "      <td>18172</td>\n",
       "      <td>5936</td>\n",
       "      <td>865</td>\n",
       "      <td>24973</td>\n",
       "      <td>Donald Trump</td>\n",
       "      <td>12236</td>\n",
       "    </tr>\n",
       "    <tr>\n",
       "      <th>Baldwin</th>\n",
       "      <td>72883</td>\n",
       "      <td>18458</td>\n",
       "      <td>3874</td>\n",
       "      <td>95215</td>\n",
       "      <td>Donald Trump</td>\n",
       "      <td>54425</td>\n",
       "    </tr>\n",
       "    <tr>\n",
       "      <th>Barbour</th>\n",
       "      <td>5454</td>\n",
       "      <td>4871</td>\n",
       "      <td>144</td>\n",
       "      <td>10469</td>\n",
       "      <td>Donald Trump</td>\n",
       "      <td>583</td>\n",
       "    </tr>\n",
       "    <tr>\n",
       "      <th>Bibb</th>\n",
       "      <td>6738</td>\n",
       "      <td>1874</td>\n",
       "      <td>207</td>\n",
       "      <td>8819</td>\n",
       "      <td>Donald Trump</td>\n",
       "      <td>4864</td>\n",
       "    </tr>\n",
       "    <tr>\n",
       "      <th>Blount</th>\n",
       "      <td>22859</td>\n",
       "      <td>2156</td>\n",
       "      <td>573</td>\n",
       "      <td>25588</td>\n",
       "      <td>Donald Trump</td>\n",
       "      <td>20703</td>\n",
       "    </tr>\n",
       "  </tbody>\n",
       "</table>\n",
       "</div>"
      ],
      "text/plain": [
       "                          Donald Trump  Hillary Clinton  Other  Total Votes  \\\n",
       "state   state_po county                                                       \n",
       "Alabama AL       Autauga         18172             5936    865        24973   \n",
       "                 Baldwin         72883            18458   3874        95215   \n",
       "                 Barbour          5454             4871    144        10469   \n",
       "                 Bibb             6738             1874    207         8819   \n",
       "                 Blount          22859             2156    573        25588   \n",
       "\n",
       "                                Winner  Margin  \n",
       "state   state_po county                         \n",
       "Alabama AL       Autauga  Donald Trump   12236  \n",
       "                 Baldwin  Donald Trump   54425  \n",
       "                 Barbour  Donald Trump     583  \n",
       "                 Bibb     Donald Trump    4864  \n",
       "                 Blount   Donald Trump   20703  "
      ]
     },
     "execution_count": 6,
     "metadata": {},
     "output_type": "execute_result"
    }
   ],
   "source": [
    "#Create pivot table with candidates as columns and votes as vales\n",
    "pivot_2016 = df_2016.pivot(columns = \"candidate\", values = \"candidatevotes\")\n",
    "\n",
    "#Merge pivot table with original 2016 dataframe\n",
    "merged_2016 = df_2016.merge(pivot_2016, right_index=True, left_index=True)\n",
    "\n",
    "#Group by state and county and sum (this allows all votes to be on same row)\n",
    "merged_grouped_2016 = merged_2016.groupby([\"state\",\"state_po\", \"county\"]).sum()\n",
    "\n",
    "#Select last three rows and transform to ints\n",
    "election_2016 = merged_grouped_2016.iloc[:,-3:].astype(int)\n",
    "\n",
    "#Create total votes column\n",
    "election_2016[\"Total Votes\"] = election_2016.sum(1)\n",
    "\n",
    "#Create column for winner and margin of victory\n",
    "election_2016[\"Winner\"] = np.where(election_2016['Hillary Clinton']>election_2016[\"Donald Trump\"], 'Hillary Clinton', 'Donald Trump')\n",
    "election_2016[\"Margin\"] = np.where(election_2016[\"Winner\"]==\"Donald Trump\", \n",
    "                                   election_2016[\"Donald Trump\"]-election_2016[\"Hillary Clinton\"],\n",
    "                                   election_2016[\"Hillary Clinton\"]-election_2016[\"Donald Trump\"])\n",
    "#Preview results\n",
    "election_2016.head()\n"
   ]
  },
  {
   "cell_type": "code",
   "execution_count": 7,
   "metadata": {},
   "outputs": [],
   "source": [
    "#Find total votes for Donald Trump 2016\n",
    "trump_total = election_2016[\"Donald Trump\"].sum()\n",
    "\n",
    "#Find total votes for Hillary Clinton 2016\n",
    "clinton_total = election_2016[\"Hillary Clinton\"].sum()\n",
    "\n",
    "#Find total votes for Other 2016\n",
    "other_2016_total = election_2016[\"Other\"].sum()"
   ]
  },
  {
   "cell_type": "code",
   "execution_count": 8,
   "metadata": {},
   "outputs": [
    {
     "data": {
      "image/png": "[encoded data removed]",
      "text/plain": [
       "<Figure size 432x288 with 1 Axes>"
      ]
     },
     "metadata": {},
     "output_type": "display_data"
    }
   ],
   "source": [
    "#Add labels\n",
    "labels_2016 = [\"Donald Trump\", \"Hillary Clinton\", \"Other\"]\n",
    "\n",
    "#Add title\n",
    "plt.title(\"% of Total Votes Presidential Election 2016\")\n",
    "\n",
    "#Set the values of each section of the pie chart\n",
    "sizes_2016 = [trump_total, clinton_total, other_2016_total]\n",
    "\n",
    "#Set the colors of each section of the pie chart\n",
    "colors_2016 = [\"firebrick\", \"#0e87cc\", \"lightgray\" ]\n",
    "\n",
    "# Create the pie chart based upon the values above\n",
    "plt.pie(sizes_2016, labels=labels_2016, colors=colors_2016,\n",
    "        autopct=\"%1.1f%%\", shadow=True, startangle=100)\n",
    "\n",
    "#Show pie chart\n",
    "plt.show()"
   ]
  },
  {
   "cell_type": "code",
   "execution_count": 9,
   "metadata": {},
   "outputs": [],
   "source": [
    "#Join 2012 and 2016 dataframes\n",
    "election_df = election_2012.join(election_2016, rsuffix = \"_2016\", lsuffix=\"_2012\")\n",
    "\n",
    "#Create column for percent change between total votes in 2012 and 2016\n",
    "election_df[\"Total_Votes_Percent_Change\"] = round((election_df[\"Total Votes_2016\"] - election_df[\"Total Votes_2012\"]) / election_df[\"Total Votes_2012\"] * 100,2)\n",
    "\n",
    "#Show results\n",
    "election_df.head(10)\n",
    "\n",
    "#export as CSV\n",
    "election_df.reset_index().to_csv(\"2012_2016_election.csv\")"
   ]
  },
  {
   "cell_type": "code",
   "execution_count": 10,
   "metadata": {},
   "outputs": [
    {
     "data": {
      "image/png": "[encoded data removed]",
      "text/plain": [
       "<Figure size 432x288 with 1 Axes>"
      ]
     },
     "metadata": {
      "needs_background": "light"
     },
     "output_type": "display_data"
    }
   ],
   "source": [
    "republican = (romney_total, trump_total)\n",
    "democratic = (obama_total, clinton_total)\n",
    "other = (other_2012_total, other_2016_total)\n",
    "\n",
    "#The x locations for the groups\n",
    "ind = np.arange(len(democratic)) \n",
    "\n",
    "#The width of the bars\n",
    "width = 0.15  \n",
    "\n",
    "#Create the bars\n",
    "fig, ax = plt.subplots()\n",
    "rects1 = plt.bar(ind - width, republican, width, label='Republican', color=\"firebrick\")\n",
    "rects2 = plt.bar(ind + width/9, democratic, width, label='Democratic', color=\"#0e87cc\")\n",
    "rects3 = plt.bar(ind + width*1.2, other, width, label='Other', color=\"lightgray\")\n",
    "\n",
    "# Add some text for labels, title\n",
    "plt.ylabel('Votes (10 millions)')\n",
    "plt.title('Votes per Parties 2012 and 2016')\n",
    "\n",
    "#Add legend\n",
    "plt.legend(loc= \"upper center\")\n",
    "\n",
    "#Add grid\n",
    "plt.grid(alpha= 0.3)\n",
    "\n",
    "#Set ticks\n",
    "plt.xticks(ind)\n",
    "\n",
    "#Add tick labels\n",
    "ax.set_xticklabels(('2012', '2016'))\n",
    "\n",
    "#Show bar chart\n",
    "plt.show()"
   ]
  },
  {
   "cell_type": "code",
   "execution_count": 11,
   "metadata": {},
   "outputs": [],
   "source": [
    "#Store number of counties that changed parties between 2012 and 2016\n",
    "Dem_Rep = len(election_df[(election_df.Winner_2012 == \"Barack Obama\") & (election_df.Winner_2016 == \"Donald Trump\")])\n",
    "Rep_Dem = len(election_df[(election_df.Winner_2012 == \"Mitt Romney\") & (election_df.Winner_2016 == \"Hillary Clinton\")])\n",
    "\n",
    "#NEED TO CREATE A CHART HERE"
   ]
  },
  {
   "cell_type": "code",
   "execution_count": null,
   "metadata": {},
   "outputs": [],
   "source": []
  },
  {
   "cell_type": "code",
   "execution_count": 12,
   "metadata": {},
   "outputs": [],
   "source": [
    "#Read in demographic data\n",
    "demo_df = pd.read_csv(\"demographic_data.csv\")\n",
    "\n",
    "#Split data in county on the comma, replace \"county\" with \"\"\n",
    "demo_df['county'] = demo_df['county'].str.split(',').str[0]\n",
    "demo_df[\"county\"] = demo_df.county.str.replace(\" County\", \"\",)\n",
    "\n",
    "#Group data, export if necessary\n",
    "grouped_demo = demo_df.groupby([\"state\", \"county\"]).sum()\n",
    "#grouped_demo.reset_index().to_csv(\"grouped_demo.csv\")\n",
    "\n",
    "#Read in income and poverty data\n",
    "income_df = pd.read_csv(\"income_data.csv\")\n",
    "\n",
    "#Replace \"Parish\" with \"\"\n",
    "income_df[\"Name\"] = income_df.Name.str.replace(\" Parish\", \"\")\n",
    "\n",
    "#Replace \"County\" with \"\"\n",
    "income_df[\"Name\"] = income_df.Name.str.replace(\" County\", \"\")\n",
    "\n",
    "#Replace \"city\" with \"\"\n",
    "income_df[\"Name\"] = income_df.Name.str.replace(\" city\", \"\")\n",
    "\n",
    "income_df = income_df[[\"Postal Code\", \"Name\", \"Poverty Percent, All Ages\", \"Median Household Income\"]]\n"
   ]
  },
  {
   "cell_type": "code",
   "execution_count": 13,
   "metadata": {},
   "outputs": [],
   "source": [
    "#Read in clean data\n",
    "election = pd.read_csv(\"2012_2016_election.csv\")\n",
    "demographics = pd.read_csv(\"demo_clean.csv\")\n",
    "\n",
    "#Replace \"Parish\" with \"\"\n",
    "demographics[\"county\"] = demographics.county.str.replace(\" Parish\", \"\")\n"
   ]
  },
  {
   "cell_type": "code",
   "execution_count": 14,
   "metadata": {},
   "outputs": [],
   "source": [
    "#Merge dataframes\n",
    "election_merged = pd.merge(election, demographics)\n",
    "#election_merged = pd.merge(election_merged, income_df)\n",
    "\n",
    "#Make new columns for dem/rep percent change\n",
    "election_merged[\"Dem_Votes_Percent_Change\"] = round((election_merged[\"Hillary Clinton\"] - election_merged[\"Barack Obama\"]) / election_merged[\"Barack Obama\"] * 100,2)\n",
    "election_merged[\"Rep_Votes_Percent_Change\"] = round((election_merged[\"Donald Trump\"] - election_merged[\"Mitt Romney\"]) / election_merged[\"Mitt Romney\"] * 100,2)\n",
    "\n",
    "#dem_rep_df.reset_index(inplace=True)\n",
    "election_merged.rename(columns={\"state_po\":\"Postal Code\"}, inplace=True)\n",
    "income_df.rename(columns={\"Name\":\"county\"}, inplace=True)\n",
    "\n",
    "election_merged = pd.merge(election_merged, income_df)\n",
    "election_merged[\"Median Household Income\"] = election_merged[\"Median Household Income\"].str.replace(\",\",\"\")\n",
    "election_merged[\"Median Household Income\"] = election_merged[\"Median Household Income\"].astype(\"int\")\n",
    "election_merged[\"Poverty Percent, All Ages\"] = election_merged[\"Poverty Percent, All Ages\"].astype(\"float\")"
   ]
  },
  {
   "cell_type": "code",
   "execution_count": 15,
   "metadata": {},
   "outputs": [],
   "source": [
    "election_merged.rename(columns={\"state_po\":\"Postal Code\"}, inplace=True)"
   ]
  },
  {
   "cell_type": "code",
   "execution_count": 16,
   "metadata": {},
   "outputs": [
    {
     "ename": "NameError",
     "evalue": "name 'dem_rep_df' is not defined",
     "output_type": "error",
     "traceback": [
      "\u001b[1;31m---------------------------------------------------------------------------\u001b[0m",
      "\u001b[1;31mNameError\u001b[0m                                 Traceback (most recent call last)",
      "\u001b[1;32m<ipython-input-16-dc584c72bc09>\u001b[0m in \u001b[0;36m<module>\u001b[1;34m\u001b[0m\n\u001b[0;32m      1\u001b[0m \u001b[0mtotal_count\u001b[0m \u001b[1;33m=\u001b[0m \u001b[0melection_merged\u001b[0m\u001b[1;33m.\u001b[0m\u001b[0mstate\u001b[0m\u001b[1;33m.\u001b[0m\u001b[0mvalue_counts\u001b[0m\u001b[1;33m(\u001b[0m\u001b[1;33m)\u001b[0m\u001b[1;33m\u001b[0m\u001b[1;33m\u001b[0m\u001b[0m\n\u001b[0;32m      2\u001b[0m \u001b[0mpopulation\u001b[0m \u001b[1;33m=\u001b[0m \u001b[0melection_merged\u001b[0m\u001b[1;33m.\u001b[0m\u001b[0mgroupby\u001b[0m\u001b[1;33m(\u001b[0m\u001b[1;34m\"state\"\u001b[0m\u001b[1;33m)\u001b[0m\u001b[1;33m[\u001b[0m\u001b[1;34m\"total_population\"\u001b[0m\u001b[1;33m]\u001b[0m\u001b[1;33m.\u001b[0m\u001b[0msum\u001b[0m\u001b[1;33m(\u001b[0m\u001b[1;33m)\u001b[0m\u001b[1;33m\u001b[0m\u001b[1;33m\u001b[0m\u001b[0m\n\u001b[1;32m----> 3\u001b[1;33m \u001b[0mswitched_count\u001b[0m \u001b[1;33m=\u001b[0m \u001b[0mdem_rep_df\u001b[0m\u001b[1;33m.\u001b[0m\u001b[0mstate\u001b[0m\u001b[1;33m.\u001b[0m\u001b[0mvalue_counts\u001b[0m\u001b[1;33m(\u001b[0m\u001b[1;33m)\u001b[0m\u001b[1;33m\u001b[0m\u001b[1;33m\u001b[0m\u001b[0m\n\u001b[0m\u001b[0;32m      4\u001b[0m \u001b[1;33m\u001b[0m\u001b[0m\n\u001b[0;32m      5\u001b[0m switch = pd.DataFrame({\n",
      "\u001b[1;31mNameError\u001b[0m: name 'dem_rep_df' is not defined"
     ]
    }
   ],
   "source": [
    "total_count = election_merged.state.value_counts()\n",
    "population = election_merged.groupby(\"state\")[\"total_population\"].sum()\n",
    "switched_count = dem_rep_df.state.value_counts()\n",
    "\n",
    "switch = pd.DataFrame({\n",
    "    \"switched\": switched_count,\n",
    "    \"total\":total_count,\n",
    "    \"population\":population.apply(lambda x: f\"{x:,.0f}\")\n",
    "})\n",
    "\n",
    "switch.dropna(inplace=True)\n",
    "switch[\"%_Change\"] = round(switch.switched / switch.total * 100,2)\n",
    "switch.sort_values(\"%_Change\", ascending=False, inplace=True)\n",
    "\n",
    "switch.head()"
   ]
  },
  {
   "cell_type": "code",
   "execution_count": 17,
   "metadata": {},
   "outputs": [],
   "source": [
    "age_bins = [0, 34, 40, 45, 100]\n",
    "age_names = [\"<35\", \"36-40\", \"41-45\", \"$46+\"]\n",
    "income_bins = [0, 34999, 45000, 55000, 65000, 75000, 200000]\n",
    "income_names = [\"<$35,000\", \"$35,001-$45,000\", \"$45,001-$55,000\", \"$55,001-$65,000\", \"$65,001-$75,000\", \"$75,001+\"]\n",
    "\n",
    "election_merged[\"Age Ranges\"] = pd.cut(election_merged[\"median_age\"], age_bins, labels = age_names)\n",
    "election_merged[\"Median Income Ranges\"] = pd.cut(election_merged[\"Median Household Income\"], income_bins, labels = income_names)"
   ]
  },
  {
   "cell_type": "code",
   "execution_count": 18,
   "metadata": {},
   "outputs": [],
   "source": [
    "#Create dataframe for counties than switched\n",
    "rep_dem_df = election_merged[(election_merged.Winner_2012 == \"Mitt Romney\") & (election_merged.Winner_2016 == \"Hillary Clinton\")]\n",
    "dem_rep_df = election_merged[(election_merged.Winner_2012 == \"Barack Obama\") & (election_merged.Winner_2016 == \"Donald Trump\")]"
   ]
  },
  {
   "cell_type": "code",
   "execution_count": 19,
   "metadata": {},
   "outputs": [
    {
     "data": {
      "image/png": "[encoded data removed]",
      "text/plain": [
       "<Figure size 432x288 with 1 Axes>"
      ]
     },
     "metadata": {
      "needs_background": "light"
     },
     "output_type": "display_data"
    }
   ],
   "source": [
    "parties_flipped = [Dem_Rep, Rep_Dem]\n",
    "\n",
    "#The x location\n",
    "x_axis = np.arange(len(parties_flipped))\n",
    "\n",
    "#Create the bars\n",
    "plt.bar(x_axis, parties_flipped, color='black', align=\"center\",  width=0.3)\n",
    "\n",
    "#Set ticks\n",
    "tick_locations = [value for value in x_axis]\n",
    "plt.xticks(tick_locations, [\"Democratic -> Republican\", \"Republican -> Democratic\"])\n",
    "\n",
    "# Set the limits of the x axis\n",
    "plt.xlim(-0.55, len(x_axis)-0.45)\n",
    "\n",
    "#Add grid\n",
    "plt.grid(alpha= 0.3)\n",
    "\n",
    "#Add title and labels\n",
    "plt.title(\"Total Counties Flipped Parties Between Elections 2012 - 2016\")\n",
    "plt.ylabel(\"Number Of Counties\")\n",
    "\n",
    "#Show bar chart\n",
    "plt.show()"
   ]
  },
  {
   "cell_type": "code",
   "execution_count": 20,
   "metadata": {},
   "outputs": [
    {
     "name": "stdout",
     "output_type": "stream",
     "text": [
      "-13.854036169259235\n",
      "18.082919814681905\n"
     ]
    }
   ],
   "source": [
    "switch_sum = dem_rep_df.sum()\n",
    "\n",
    "percent_change_dem = (switch_sum[\"Hillary Clinton\"] - switch_sum[\"Barack Obama\"]) / switch_sum[\"Barack Obama\"] * 100\n",
    "percent_change_rep = (switch_sum[\"Donald Trump\"] - switch_sum[\"Mitt Romney\"]) / switch_sum[\"Mitt Romney\"] * 100\n",
    "\n",
    "print(percent_change_dem)\n",
    "print(percent_change_rep)"
   ]
  },
  {
   "cell_type": "code",
   "execution_count": 182,
   "metadata": {},
   "outputs": [
    {
     "data": {
      "text/plain": [
       "<matplotlib.collections.LineCollection at 0x22e46d4a588>"
      ]
     },
     "execution_count": 182,
     "metadata": {},
     "output_type": "execute_result"
    },
    {
     "data": {
      "image/png": "[encoded data removed]",
      "text/plain": [
       "<Figure size 432x288 with 1 Axes>"
      ]
     },
     "metadata": {
      "needs_background": "light"
     },
     "output_type": "display_data"
    }
   ],
   "source": [
    "dem_rep_df[\"median_age\"].plot(kind=\"hist\", bins=25, alpha = 0.8, color = 'r', range =(20,60))\n",
    "plt.xlabel(\"Median Age\")\n",
    "plt.ylabel(\"Number of Counties\")\n",
    "plt.title(\"Age distribution\\nCounties than switched from Obama to Trump\")\n",
    "plt.vlines(dem_rep_df[\"median_age\"].mean(), ymin=0,ymax=45,linestyles =\"dashed\")\n"
   ]
  },
  {
   "cell_type": "code",
   "execution_count": 183,
   "metadata": {},
   "outputs": [
    {
     "data": {
      "text/plain": [
       "<matplotlib.collections.LineCollection at 0x22e46a20b38>"
      ]
     },
     "execution_count": 183,
     "metadata": {},
     "output_type": "execute_result"
    },
    {
     "data": {
      "image/png": "[encoded data removed]",
      "text/plain": [
       "<Figure size 432x288 with 1 Axes>"
      ]
     },
     "metadata": {
      "needs_background": "light"
     },
     "output_type": "display_data"
    }
   ],
   "source": [
    "election_merged[\"median_age\"].plot(kind=\"hist\", bins=25, alpha = 0.8, color = 'r')\n",
    "plt.xlabel(\"Median Age\")\n",
    "plt.ylabel(\"Number of Counties\")\n",
    "plt.title(\"Age distribution\\nAll Counties\")\n",
    "plt.vlines(election_merged[\"median_age\"].mean(), ymin=0,ymax=550, linestyles =\"dashed\")"
   ]
  },
  {
   "cell_type": "code",
   "execution_count": 184,
   "metadata": {},
   "outputs": [
    {
     "data": {
      "text/plain": [
       "<matplotlib.collections.LineCollection at 0x22e4806e4e0>"
      ]
     },
     "execution_count": 184,
     "metadata": {},
     "output_type": "execute_result"
    },
    {
     "data": {
      "image/png": "[encoded data removed]",
      "text/plain": [
       "<Figure size 432x288 with 1 Axes>"
      ]
     },
     "metadata": {
      "needs_background": "light"
     },
     "output_type": "display_data"
    }
   ],
   "source": [
    "dem_rep_df['Poverty Percent, All Ages'].plot(kind=\"hist\", bins=30, alpha = 0.8, color = 'r')\n",
    "plt.xlabel(\"Poverty Percent, All Ages\")\n",
    "plt.ylabel(\"Number of Counties\")\n",
    "plt.title(\"Poverty Percent\\nCounties than switched from Obama to Trump\")\n",
    "plt.vlines(dem_rep_df['Poverty Percent, All Ages'].mean(), ymin=0,ymax=45,linestyles =\"dashed\")"
   ]
  },
  {
   "cell_type": "code",
   "execution_count": 185,
   "metadata": {},
   "outputs": [
    {
     "data": {
      "text/plain": [
       "<matplotlib.collections.LineCollection at 0x22e48116128>"
      ]
     },
     "execution_count": 185,
     "metadata": {},
     "output_type": "execute_result"
    },
    {
     "data": {
      "image/png": "[encoded data removed]",
      "text/plain": [
       "<Figure size 432x288 with 1 Axes>"
      ]
     },
     "metadata": {
      "needs_background": "light"
     },
     "output_type": "display_data"
    }
   ],
   "source": [
    "election_merged['Poverty Percent, All Ages'].plot(kind=\"hist\", bins=30, alpha = 0.8, color = 'r')\n",
    "plt.xlabel(\"Poverty Percent, All Ages\")\n",
    "plt.ylabel(\"Number of Counties\")\n",
    "plt.title(\"Poverty Percent\\n All Counties\")\n",
    "plt.vlines(election_merged['Poverty Percent, All Ages'].mean(), ymin=0,ymax=450,linestyles =\"dashed\")"
   ]
  },
  {
   "cell_type": "code",
   "execution_count": 186,
   "metadata": {},
   "outputs": [
    {
     "data": {
      "text/plain": [
       "Index(['Unnamed: 0', 'state', 'Postal Code', 'county', 'Barack Obama',\n",
       "       'Mitt Romney', 'Other_2012', 'Total Votes_2012', 'Winner_2012',\n",
       "       'Margin_2012', 'Donald Trump', 'Hillary Clinton', 'Other_2016',\n",
       "       'Total Votes_2016', 'Winner_2016', 'Margin_2016',\n",
       "       'Total_Votes_Percent_Change', 'median_age', 'unemployment',\n",
       "       'total_population', 'graduate_degree', 'at_least_bachelor_s_degree',\n",
       "       'at_least_high_school_diploma', 'less_than_high_school',\n",
       "       'median_earnings_2010_dollars', 'white', 'black', 'hispanic', 'asian',\n",
       "       'farming_fishing_and_forestry_occupations',\n",
       "       'construction_extraction_maintenance_and_repair_occupations',\n",
       "       'management_professional_and_related_occupations',\n",
       "       'production_transportation_and_material_moving_occupations',\n",
       "       'sales_and_office_occupations', 'service_occupations',\n",
       "       'Dem_Votes_Percent_Change', 'Rep_Votes_Percent_Change',\n",
       "       'Poverty Percent, All Ages', 'Median Household Income', 'Age Ranges',\n",
       "       'Median Income Ranges'],\n",
       "      dtype='object')"
      ]
     },
     "execution_count": 186,
     "metadata": {},
     "output_type": "execute_result"
    }
   ],
   "source": [
    "election_merged.columns"
   ]
  },
  {
   "cell_type": "code",
   "execution_count": 187,
   "metadata": {},
   "outputs": [
    {
     "data": {
      "text/plain": [
       "<matplotlib.collections.LineCollection at 0x22e4806e518>"
      ]
     },
     "execution_count": 187,
     "metadata": {},
     "output_type": "execute_result"
    },
    {
     "data": {
      "image/png": "[encoded data removed]",
      "text/plain": [
       "<Figure size 432x288 with 1 Axes>"
      ]
     },
     "metadata": {
      "needs_background": "light"
     },
     "output_type": "display_data"
    }
   ],
   "source": [
    "dem_rep_df['white'].plot(kind=\"hist\", bins=30, alpha = 0.8, color = 'r')\n",
    "plt.xlabel(\"White percentage\")\n",
    "plt.ylabel(\"Number of Counties\")\n",
    "plt.title(\"Poverty Percent\\nCounties than switched from Obama to Trump\")\n",
    "plt.vlines(dem_rep_df['white'].mean(), ymin=0,ymax=45,linestyles =\"dashed\")"
   ]
  },
  {
   "cell_type": "code",
   "execution_count": 188,
   "metadata": {},
   "outputs": [
    {
     "data": {
      "text/plain": [
       "<matplotlib.collections.LineCollection at 0x22e482605f8>"
      ]
     },
     "execution_count": 188,
     "metadata": {},
     "output_type": "execute_result"
    },
    {
     "data": {
      "image/png": "[encoded data removed]",
      "text/plain": [
       "<Figure size 432x288 with 1 Axes>"
      ]
     },
     "metadata": {
      "needs_background": "light"
     },
     "output_type": "display_data"
    }
   ],
   "source": [
    "election_merged['white'].plot(kind=\"hist\", bins=30, alpha = 0.8, color = 'r')\n",
    "plt.xlabel(\"Poverty Percent, All Ages\")\n",
    "plt.ylabel(\"Number of Counties\")\n",
    "plt.title(\"Poverty Percent\\n All Counties\")\n",
    "plt.vlines(election_merged['white'].mean(), ymin=0,ymax=450,linestyles =\"dashed\")"
   ]
  },
  {
   "cell_type": "code",
   "execution_count": null,
   "metadata": {},
   "outputs": [],
   "source": []
  }
 ],
 "metadata": {
  "kernelspec": {
   "display_name": "Python 3",
   "language": "python",
   "name": "python3"
  },
  "language_info": {
   "codemirror_mode": {
    "name": "ipython",
    "version": 3
   },
   "file_extension": ".py",
   "mimetype": "text/x-python",
   "name": "python",
   "nbconvert_exporter": "python",
   "pygments_lexer": "ipython3",
   "version": "3.7.3"
  }
 },
 "nbformat": 4,
 "nbformat_minor": 2
}
